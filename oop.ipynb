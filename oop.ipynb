{
 "cells": [
  {
   "cell_type": "code",
   "execution_count": 16,
   "metadata": {},
   "outputs": [
    {
     "name": "stdout",
     "output_type": "stream",
     "text": [
      "<__main__.person object at 0x00000173FA46B620>\n"
     ]
    }
   ],
   "source": [
    "class person:\n",
    "    pass  #empty class\n",
    "per_obj=person()\n",
    "print(per_obj)"
   ]
  },
  {
   "cell_type": "markdown",
   "metadata": {},
   "source": []
  },
  {
   "cell_type": "markdown",
   "metadata": {},
   "source": []
  },
  {
   "cell_type": "markdown",
   "metadata": {},
   "source": []
  },
  {
   "cell_type": "code",
   "execution_count": 2,
   "metadata": {},
   "outputs": [
    {
     "name": "stdout",
     "output_type": "stream",
     "text": [
      "cricket\n"
     ]
    }
   ],
   "source": [
    "class Student:\n",
    "    def __init__(self,id,sub,hobby): #self=>ref to the parameters \n",
    "                self.id=id\n",
    "                self.sub=sub\n",
    "                self.hobby=hobby\n",
    "stud1=Student(1,'python','cricket')\n",
    "print(stud1.hobby)\n",
    "   "
   ]
  },
  {
   "cell_type": "code",
   "execution_count": 3,
   "metadata": {},
   "outputs": [
    {
     "name": "stdout",
     "output_type": "stream",
     "text": [
      "168\n"
     ]
    }
   ],
   "source": [
    "class Person:\n",
    "    def __init__(self,name,age,height): #constructor or initializer\n",
    "        self.name=name               #instance/object variable\n",
    "        self.age=age\n",
    "        self.height=height\n",
    "per_obj=Person(\"Harsh\",19,168)\n",
    "print(per_obj.height)"
   ]
  },
  {
   "cell_type": "code",
   "execution_count": 4,
   "metadata": {},
   "outputs": [
    {
     "name": "stdout",
     "output_type": "stream",
     "text": [
      "sachin\n",
      "rahul\n"
     ]
    }
   ],
   "source": [
    "class Person:\n",
    "    def __init__(self,name,age): #self represent object\n",
    "        self.name=name\n",
    "        self.age=age   #object property\n",
    "    def __init__(self,name):\n",
    "        self.name=name\n",
    "\n",
    "p1=Person('sachin')\n",
    "p2=Person('rahul')\n",
    "\n",
    "print(p1.name)\n",
    "print(p2.name)"
   ]
  },
  {
   "cell_type": "code",
   "execution_count": 5,
   "metadata": {},
   "outputs": [
    {
     "name": "stdout",
     "output_type": "stream",
     "text": [
      "india sachin\n",
      "india rahul\n"
     ]
    }
   ],
   "source": [
    "class Person:\n",
    "    country='india'  #class property-which we directly define before object initialization.\n",
    "    def __init__(self,name,age):\n",
    "        self.name=name\n",
    "        self.age=age\n",
    "p1=Person('sachin',19)\n",
    "p2=Person('rahul',18)\n",
    "print(p1.country,p1.name)\n",
    "\n",
    "print(p2.country,p2.name)"
   ]
  },
  {
   "cell_type": "code",
   "execution_count": 6,
   "metadata": {},
   "outputs": [],
   "source": [
    "#Behaviour\n",
    "class Person:\n",
    "    def __init__(self,name,age):\n",
    "        self.name=name\n",
    "        self.age=age\n",
    "    def dance (self):\n",
    "          print(\"I can also dance\")\n",
    "          per=person('rahul',18)\n",
    "          per.dance()"
   ]
  },
  {
   "cell_type": "code",
   "execution_count": 7,
   "metadata": {},
   "outputs": [
    {
     "name": "stdout",
     "output_type": "stream",
     "text": [
      "honda is accelerating\n"
     ]
    }
   ],
   "source": [
    "class Car:\n",
    "    def __init__(self,brand,color,make):\n",
    "        self.brand=brand\n",
    "        self.color=color\n",
    "        self.make=make\n",
    "    def accelerate(self):\n",
    "        print(self.brand +\" \"+\"is accelerating\")\n",
    "car=Car('honda','red','2019')\n",
    "car.accelerate()"
   ]
  },
  {
   "cell_type": "code",
   "execution_count": 8,
   "metadata": {},
   "outputs": [
    {
     "name": "stdout",
     "output_type": "stream",
     "text": [
      "29\n"
     ]
    }
   ],
   "source": [
    "class Point:\n",
    "    def __init__(self,x,y,z): \n",
    "        self.x=x\n",
    "        self.y=y\n",
    "        self.z=z\n",
    "    def sqSum(self):\n",
    "        print(self.x**2 +self.y**2 + self.z**2)\n",
    "p1=Point(2,3,4)\n",
    "p1.sqSum()"
   ]
  },
  {
   "cell_type": "code",
   "execution_count": 9,
   "metadata": {},
   "outputs": [
    {
     "name": "stdout",
     "output_type": "stream",
     "text": [
      "<__main__.Person object at 0x00000173FC8751F0>\n"
     ]
    }
   ],
   "source": [
    "class Person:\n",
    "    def __init__(self,name):\n",
    "        self.name=name\n",
    "    def dance(self):\n",
    "       print(\"I can dance\")\n",
    "per=Person(\"V\")\n",
    "print(per)"
   ]
  },
  {
   "cell_type": "code",
   "execution_count": 10,
   "metadata": {},
   "outputs": [
    {
     "name": "stdout",
     "output_type": "stream",
     "text": [
      "hmko bas khelna aata h\n"
     ]
    }
   ],
   "source": [
    "#class methods\n",
    "class Person:\n",
    "    def __init__(self,name,age):\n",
    "        self.name=name\n",
    "        self.age=age\n",
    "    @classmethod        #decorators in python-->Some Additional information #sifarish\n",
    "    def gaming(cls):    #cls give reference to the class,to be used later\n",
    "        print('hmko bas khelna aata h')\n",
    "Person.gaming()"
   ]
  },
  {
   "cell_type": "code",
   "execution_count": 11,
   "metadata": {},
   "outputs": [
    {
     "name": "stdout",
     "output_type": "stream",
     "text": [
      "I love  India\n"
     ]
    }
   ],
   "source": [
    "\n",
    "class Person:\n",
    "    country=\"India\"\n",
    "    def __init__(self,name,age):\n",
    "        self.name=name\n",
    "        self.age=age\n",
    "    @classmethod\n",
    "    def gaming(cls):\n",
    "        print(\"I love \",cls.country)    #cls give reference to the class\n",
    "Person.gaming()"
   ]
  },
  {
   "cell_type": "code",
   "execution_count": 12,
   "metadata": {},
   "outputs": [
    {
     "name": "stdout",
     "output_type": "stream",
     "text": [
      "I love coding\n"
     ]
    }
   ],
   "source": [
    "#static methods-->neither access to the class variable nor instance variable\n",
    "class Person:\n",
    "    def __init__(self,name,age):\n",
    "        self.name=name\n",
    "        self.age=age\n",
    "    @staticmethod\n",
    "    def coding():\n",
    "       print(\"I love coding\")\n",
    "Person.coding()\n",
    "\n",
    "\n"
   ]
  },
  {
   "cell_type": "code",
   "execution_count": 13,
   "metadata": {},
   "outputs": [
    {
     "data": {
      "text/plain": [
       "43"
      ]
     },
     "execution_count": 13,
     "metadata": {},
     "output_type": "execute_result"
    }
   ],
   "source": [
    "class Cricket:\n",
    "    def __init__(self,player1,player2,fight):\n",
    "        self.player1=player1\n",
    "        self.player2=player2\n",
    "        self.fight=fight #__ to hide /make private\n",
    "# res=Cricket(\"viragt\",\"danish\",43)\n",
    "# print(res.fight)\n",
    "Cricket(\"viragt\",\"gill\",43).fight"
   ]
  },
  {
   "cell_type": "code",
   "execution_count": 14,
   "metadata": {},
   "outputs": [
    {
     "ename": "AttributeError",
     "evalue": "'Cricket' object has no attribute '__fight'",
     "output_type": "error",
     "traceback": [
      "\u001b[1;31m---------------------------------------------------------------------------\u001b[0m",
      "\u001b[1;31mAttributeError\u001b[0m                            Traceback (most recent call last)",
      "Cell \u001b[1;32mIn[14], line 6\u001b[0m\n\u001b[0;32m      4\u001b[0m         \u001b[38;5;28mself\u001b[39m\u001b[38;5;241m.\u001b[39mplayer2\u001b[38;5;241m=\u001b[39mplayer2\n\u001b[0;32m      5\u001b[0m         \u001b[38;5;28mself\u001b[39m\u001b[38;5;241m.\u001b[39m__fight\u001b[38;5;241m=\u001b[39mfight \u001b[38;5;66;03m#__ to hide /make private\u001b[39;00m\n\u001b[1;32m----> 6\u001b[0m \u001b[43mCricket\u001b[49m\u001b[43m(\u001b[49m\u001b[38;5;124;43m\"\u001b[39;49m\u001b[38;5;124;43mVirat\u001b[39;49m\u001b[38;5;124;43m\"\u001b[39;49m\u001b[43m,\u001b[49m\u001b[38;5;124;43m\"\u001b[39;49m\u001b[38;5;124;43mGill\u001b[39;49m\u001b[38;5;124;43m\"\u001b[39;49m\u001b[43m,\u001b[49m\u001b[38;5;241;43m45\u001b[39;49m\u001b[43m)\u001b[49m\u001b[38;5;241;43m.\u001b[39;49m\u001b[43m__fight\u001b[49m\n",
      "\u001b[1;31mAttributeError\u001b[0m: 'Cricket' object has no attribute '__fight'"
     ]
    }
   ],
   "source": [
    "class Cricket:\n",
    "    def __init__(self,player1,player2,fight):\n",
    "        self.player1=player1\n",
    "        self.player2=player2\n",
    "        self.__fight=fight #__ to hide /make private\n",
    "Cricket(\"Virat\",\"Gill\",45).__fight"
   ]
  },
  {
   "cell_type": "code",
   "execution_count": null,
   "metadata": {},
   "outputs": [
    {
     "data": {
      "text/plain": [
       "'hyundai'"
      ]
     },
     "execution_count": 25,
     "metadata": {},
     "output_type": "execute_result"
    }
   ],
   "source": [
    "#incapsulation\n",
    "class Person:\n",
    "    def __init__(self,name,car):\n",
    "        self.__name=name\n",
    "        self.__car=car\n",
    "    def getName(self):\n",
    "        return self.__name\n",
    "    def setName(self):\n",
    "        self.__name= \"harsh\"\n",
    "    def setName(self):\n",
    "        self.__car= \"bmw\"\n",
    "    def getName(self):\n",
    "        return self.__car\n",
    "    \n",
    "Person(\"Harsh\",\"hyundai\").setName()\n",
    "Person(\"Harsh\",\"hyundai\").getName()\n",
    "\n",
    "    "
   ]
  },
  {
   "cell_type": "markdown",
   "metadata": {},
   "source": []
  },
  {
   "cell_type": "code",
   "execution_count": null,
   "metadata": {},
   "outputs": [
    {
     "ename": "SyntaxError",
     "evalue": "incomplete input (53536966.py, line 15)",
     "output_type": "error",
     "traceback": [
      "\u001b[1;36m  Cell \u001b[1;32mIn[1], line 15\u001b[1;36m\u001b[0m\n\u001b[1;33m    \u001b[0m\n\u001b[1;37m    ^\u001b[0m\n\u001b[1;31mSyntaxError\u001b[0m\u001b[1;31m:\u001b[0m incomplete input\n"
     ]
    }
   ],
   "source": [
    "class Rectangle:\n",
    "    def __init__(self,length,width):\n",
    "        self.__length=length\n",
    "        self.__width=width\n",
    "    \n",
    "    def getLength(self):\n",
    "        return self.__length\n",
    "    def setLength(self, length):\n",
    "        self.__length=length\n",
    "    \n",
    "    def getWidth(self):\n",
    "        return self.__width\n",
    "    def setWidth(self):\n",
    "\n"
   ]
  },
  {
   "cell_type": "code",
   "execution_count": null,
   "metadata": {},
   "outputs": [
    {
     "name": "stdout",
     "output_type": "stream",
     "text": [
      "Animal is eating\n"
     ]
    }
   ],
   "source": [
    "class Animal:\n",
    "    def eat(self):\n",
    "        print(\"Animal is eating\")\n",
    "class Dog(Animal):  #child(parents)\n",
    "    pass\n",
    "dog=Dog()\n",
    "dog.eat()\n"
   ]
  },
  {
   "cell_type": "code",
   "execution_count": null,
   "metadata": {},
   "outputs": [],
   "source": []
  }
 ],
 "metadata": {
  "kernelspec": {
   "display_name": "Python 3",
   "language": "python",
   "name": "python3"
  },
  "language_info": {
   "codemirror_mode": {
    "name": "ipython",
    "version": 3
   },
   "file_extension": ".py",
   "mimetype": "text/x-python",
   "name": "python",
   "nbconvert_exporter": "python",
   "pygments_lexer": "ipython3",
   "version": "3.12.2"
  }
 },
 "nbformat": 4,
 "nbformat_minor": 2
}
